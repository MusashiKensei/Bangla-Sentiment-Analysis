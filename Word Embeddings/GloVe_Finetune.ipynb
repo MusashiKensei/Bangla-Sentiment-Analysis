{
 "cells": [
  {
   "cell_type": "code",
   "execution_count": 12,
   "id": "b717013d-8f42-441b-80ce-5331147c87da",
   "metadata": {},
   "outputs": [],
   "source": [
    "import torch\n",
    "import torch.nn as nn\n",
    "import torch.optim as optim\n",
    "from torch.utils.data import DataLoader, Dataset\n",
    "from sklearn.model_selection import train_test_split\n",
    "import pandas as pd\n",
    "import numpy as np\n",
    "from nltk.tokenize import word_tokenize\n",
    "import torch.nn.functional as F"
   ]
  },
  {
   "cell_type": "code",
   "execution_count": 13,
   "id": "71472c5b-18be-42f2-83c1-ef9049dd7b5b",
   "metadata": {},
   "outputs": [],
   "source": [
    "# Load dataset\n",
    "df = pd.read_excel(r\"E:\\Bangla-Sentiment-Analysis\\Bangla_Dataset\\final_preprocessed_dataset.xlsx\")\n",
    "\n",
    "# Tokenize sentences\n",
    "df['tokens'] = df['clean_sentence'].apply(word_tokenize)\n",
    "\n",
    "# Encode labels (Assuming 'Sentiment' column has 'Positive', 'Negative', 'Neutral')\n",
    "label_dict = {'Positive': 2, 'Neutral': 1, 'Negative': 0}\n",
    "df['label'] = df['Sentiment'].map(label_dict)"
   ]
  },
  {
   "cell_type": "code",
   "execution_count": 14,
   "id": "75738b0a-3491-4139-899f-c5ed40c5f0d8",
   "metadata": {},
   "outputs": [],
   "source": [
    "# Load GloVe embeddings\n",
    "def load_glove_embeddings(glove_file, embedding_dim):\n",
    "    embeddings_index = {}\n",
    "    with open(glove_file, 'r', encoding='utf-8') as f:\n",
    "        for line in f:\n",
    "            values = line.split()\n",
    "            word = values[0]\n",
    "            coefs = np.asarray(values[1:], dtype='float32')\n",
    "            embeddings_index[word] = coefs\n",
    "    return embeddings_index\n",
    "\n",
    "# Path to GloVe embeddings file (300d)\n",
    "glove_file_path = r'E:\\Bangla-Sentiment-Analysis\\Word Embeddings\\bn_glove.39M.300d.txt'\n",
    "embedding_dim = 300\n",
    "embeddings_index = load_glove_embeddings(glove_file_path, embedding_dim)"
   ]
  },
  {
   "cell_type": "code",
   "execution_count": 15,
   "id": "a8b82be0-ec2e-4ce0-92b8-7368cc9162d7",
   "metadata": {},
   "outputs": [],
   "source": [
    "# word-to-index dictionary and embedding matrix\n",
    "word_to_idx = {}\n",
    "embedding_matrix = []\n",
    "vocab = set()\n",
    "\n",
    "for tokens in df['tokens']:\n",
    "    vocab.update(tokens)\n",
    "\n",
    "for idx, word in enumerate(vocab):\n",
    "    word_to_idx[word] = idx + 1  \n",
    "    embedding_vector = embeddings_index.get(word)\n",
    "    if embedding_vector is not None:\n",
    "        embedding_matrix.append(embedding_vector)\n",
    "    else:\n",
    "        embedding_matrix.append(np.random.normal(size=(embedding_dim,)))\n",
    "\n",
    "embedding_matrix = np.array(embedding_matrix)\n",
    "embedding_matrix = np.vstack([np.zeros((embedding_dim,)), embedding_matrix])  # Add padding (index 0) embedding"
   ]
  },
  {
   "cell_type": "code",
   "execution_count": 16,
   "id": "c220ac88-024d-49a7-a1b6-6e7982940d56",
   "metadata": {},
   "outputs": [],
   "source": [
    "# Custom dataset class\n",
    "class SentimentDataset(Dataset):\n",
    "    def __init__(self, df, word_to_idx, max_len):\n",
    "        self.df = df\n",
    "        self.word_to_idx = word_to_idx\n",
    "        self.max_len = max_len\n",
    "\n",
    "    def __len__(self):\n",
    "        return len(self.df)\n",
    "\n",
    "    def __getitem__(self, idx):\n",
    "        tokens = self.df.iloc[idx]['tokens']\n",
    "        label = self.df.iloc[idx]['label']\n",
    "\n",
    "        # Convert tokens to indices\n",
    "        indices = [self.word_to_idx.get(token, 0) for token in tokens]\n",
    "        \n",
    "        # Pad or truncate sequence\n",
    "        if len(indices) < self.max_len:\n",
    "            indices += [0] * (self.max_len - len(indices))  # Pad with 0 (padding token index)\n",
    "        else:\n",
    "            indices = indices[:self.max_len]\n",
    "\n",
    "        return torch.tensor(indices, dtype=torch.long), torch.tensor(label, dtype=torch.long)"
   ]
  },
  {
   "cell_type": "code",
   "execution_count": 17,
   "id": "013dcaf4-374f-41f5-a9c2-378084657a29",
   "metadata": {},
   "outputs": [
    {
     "name": "stdout",
     "output_type": "stream",
     "text": [
      "Using device: cuda\n"
     ]
    }
   ],
   "source": [
    "# Model definition (BiLSTM)\n",
    "class BiLSTMModel(nn.Module):\n",
    "    def __init__(self, embedding_matrix, hidden_dim, output_dim):\n",
    "        super(BiLSTMModel, self).__init__()\n",
    "        num_embeddings, embedding_dim = embedding_matrix.shape\n",
    "        \n",
    "        # Embedding layer initialized with pre-trained GloVe embeddings\n",
    "        self.embedding = nn.Embedding.from_pretrained(torch.FloatTensor(embedding_matrix), freeze=False)  # Set freeze=False to fine-tune\n",
    "        self.lstm = nn.LSTM(embedding_dim, hidden_dim, bidirectional=True, batch_first=True)\n",
    "        self.fc = nn.Linear(hidden_dim * 2, output_dim)  # BiLSTM -> 2 * hidden_dim\n",
    "\n",
    "    def forward(self, x):\n",
    "        embedded = self.embedding(x)\n",
    "        lstm_out, _ = self.lstm(embedded)\n",
    "        output = self.fc(lstm_out[:, -1, :])  # Take the last hidden state\n",
    "        return output\n",
    "\n",
    "# Hyperparameters\n",
    "max_len = 100  # Max length of input sequence\n",
    "hidden_dim = 128  # LSTM hidden state size\n",
    "output_dim = 3  # Three sentiment classes (Positive, Negative, Neutral)\n",
    "batch_size = 32\n",
    "epochs = 10\n",
    "lr = 0.001\n",
    "\n",
    "# Split dataset into train and validation sets\n",
    "train_df, valid_df = train_test_split(df, test_size=0.2, random_state=42)\n",
    "\n",
    "# Create DataLoader objects\n",
    "train_dataset = SentimentDataset(train_df, word_to_idx, max_len)\n",
    "valid_dataset = SentimentDataset(valid_df, word_to_idx, max_len)\n",
    "\n",
    "train_loader = DataLoader(train_dataset, batch_size=batch_size, shuffle=True)\n",
    "valid_loader = DataLoader(valid_dataset, batch_size=batch_size)\n",
    "\n",
    "# Check if GPU is available\n",
    "device = torch.device('cuda' if torch.cuda.is_available() else 'cpu')\n",
    "print(f'Using device: {device}')"
   ]
  },
  {
   "cell_type": "code",
   "execution_count": 18,
   "id": "e348067a-faac-46ea-b348-88d7bb4d17eb",
   "metadata": {},
   "outputs": [
    {
     "name": "stdout",
     "output_type": "stream",
     "text": [
      "Epoch 1/10 | Train Loss: 1.0572 | Valid Loss: 1.0549\n",
      "Epoch 2/10 | Train Loss: 1.0561 | Valid Loss: 1.0525\n",
      "Epoch 3/10 | Train Loss: 1.0553 | Valid Loss: 1.0539\n",
      "Epoch 4/10 | Train Loss: 1.0544 | Valid Loss: 1.0539\n",
      "Epoch 5/10 | Train Loss: 1.0539 | Valid Loss: 1.0546\n",
      "Epoch 6/10 | Train Loss: 0.8812 | Valid Loss: 0.7992\n",
      "Epoch 7/10 | Train Loss: 0.7230 | Valid Loss: 0.7738\n",
      "Epoch 8/10 | Train Loss: 0.6257 | Valid Loss: 0.7765\n",
      "Epoch 9/10 | Train Loss: 0.5424 | Valid Loss: 0.8116\n",
      "Epoch 10/10 | Train Loss: 0.4757 | Valid Loss: 0.8470\n"
     ]
    }
   ],
   "source": [
    "# Initialize model, loss function, optimizer\n",
    "model = BiLSTMModel(embedding_matrix, hidden_dim, output_dim).to(device)\n",
    "criterion = nn.CrossEntropyLoss()\n",
    "optimizer = optim.Adam(model.parameters(), lr=lr)\n",
    "\n",
    "# Training loop with GPU support\n",
    "def train_model(model, train_loader, valid_loader, criterion, optimizer, epochs):\n",
    "    for epoch in range(epochs):\n",
    "        model.train()\n",
    "        epoch_loss = 0\n",
    "        \n",
    "        for inputs, labels in train_loader:\n",
    "            # Move inputs and labels to GPU\n",
    "            inputs, labels = inputs.to(device), labels.to(device)\n",
    "\n",
    "            optimizer.zero_grad()\n",
    "            outputs = model(inputs)\n",
    "            loss = criterion(outputs, labels)\n",
    "            loss.backward()\n",
    "            optimizer.step()\n",
    "\n",
    "            epoch_loss += loss.item()\n",
    "\n",
    "        # Validation step\n",
    "        model.eval()\n",
    "        valid_loss = 0\n",
    "        with torch.no_grad():\n",
    "            for inputs, labels in valid_loader:\n",
    "                inputs, labels = inputs.to(device), labels.to(device)\n",
    "                outputs = model(inputs)\n",
    "                loss = criterion(outputs, labels)\n",
    "                valid_loss += loss.item()\n",
    "\n",
    "        print(f\"Epoch {epoch+1}/{epochs} | Train Loss: {epoch_loss/len(train_loader):.4f} | Valid Loss: {valid_loss/len(valid_loader):.4f}\")\n",
    "\n",
    "# Train the model with GPU\n",
    "train_model(model, train_loader, valid_loader, criterion, optimizer, epochs)"
   ]
  },
  {
   "cell_type": "code",
   "execution_count": 19,
   "id": "413051da-a97a-42f8-be1b-ff50012aeb1b",
   "metadata": {},
   "outputs": [
    {
     "name": "stdout",
     "output_type": "stream",
     "text": [
      "Fine-tuned GloVe vectors saved to E:\\Bangla Sentiment Analysis Thesis\\Word Embeddings\\fine_tuned_glove_vectors_1.txt\n"
     ]
    }
   ],
   "source": [
    "# Saving the fine-tuned GloVe embeddings after training\n",
    "fine_tuned_embeddings = model.embedding.weight.data.cpu().numpy()\n",
    "\n",
    "# Create a reverse mapping from index to word\n",
    "idx_to_word = {idx: word for word, idx in word_to_idx.items()}\n",
    "\n",
    "# Function to save the fine-tuned GloVe embeddings\n",
    "def save_fine_tuned_glove(fine_tuned_embeddings, idx_to_word, output_file):\n",
    "    with open(output_file, 'w', encoding='utf-8') as f:\n",
    "        for idx, embedding in enumerate(fine_tuned_embeddings):\n",
    "            word = idx_to_word.get(idx)\n",
    "            if word:  # Ensure it's a valid word in the vocabulary\n",
    "                embedding_str = ' '.join(map(str, embedding))\n",
    "                f.write(f\"{word} {embedding_str}\\n\")\n",
    "\n",
    "# Define the output file path\n",
    "output_file_path = r'E:\\Bangla-Sentiment-Analysis\\Word Embeddings\\fine_tuned_glove_vectors_1.txt'\n",
    "\n",
    "# Save the fine-tuned embeddings\n",
    "save_fine_tuned_glove(fine_tuned_embeddings, idx_to_word, output_file_path)\n",
    "\n",
    "print(f\"Fine-tuned GloVe vectors saved to {output_file_path}\")"
   ]
  },
  {
   "cell_type": "code",
   "execution_count": 20,
   "id": "a47f28c2-d3ee-465d-ad20-e309a52a8226",
   "metadata": {},
   "outputs": [],
   "source": [
    "# Prediction code stays the same\n",
    "def preprocess_sentence(sentence, word_to_idx, max_len):\n",
    "    tokens = word_tokenize(sentence)\n",
    "    indices = [word_to_idx.get(token, 0) for token in tokens]  # Use 0 for unknown words\n",
    "    if len(indices) < max_len:\n",
    "        indices += [0] * (max_len - len(indices))  # Pad with 0\n",
    "    else:\n",
    "        indices = indices[:max_len]\n",
    "    return torch.tensor(indices, dtype=torch.long).unsqueeze(0).to(device)\n",
    "\n",
    "def predict_sentiment(model, sentence, word_to_idx, max_len):\n",
    "    model.eval()\n",
    "    with torch.no_grad():\n",
    "        sentence_tensor = preprocess_sentence(sentence, word_to_idx, max_len)\n",
    "        output = model(sentence_tensor)\n",
    "        probabilities = F.softmax(output, dim=1)\n",
    "        predicted_label = torch.argmax(probabilities, dim=1).item()\n",
    "        return predicted_label, probabilities\n",
    "\n",
    "# No need to load the saved best model if you're using the final model directly\n",
    "model = model.to(device)  # Use the final trained model as it is\n"
   ]
  },
  {
   "cell_type": "code",
   "execution_count": 21,
   "id": "3c51a4f4-2558-4d08-aa68-627978bbbf21",
   "metadata": {},
   "outputs": [
    {
     "name": "stdout",
     "output_type": "stream",
     "text": [
      "Predicted Sentiment: Positive\n",
      "Probabilities: tensor([[0.0090, 0.0203, 0.9707]], device='cuda:0')\n"
     ]
    }
   ],
   "source": [
    "# Example sentence for prediction\n",
    "test_sentence = \"আমি আজ খুবই আনন্দিত\"\n",
    "predicted_label, probabilities = predict_sentiment(model, test_sentence, word_to_idx, max_len)\n",
    "\n",
    "# Map label index back to sentiment\n",
    "idx_to_label = {v: k for k, v in label_dict.items()}\n",
    "predicted_sentiment = idx_to_label[predicted_label]\n",
    "\n",
    "print(f\"Predicted Sentiment: {predicted_sentiment}\")\n",
    "print(f\"Probabilities: {probabilities}\")"
   ]
  },
  {
   "cell_type": "code",
   "execution_count": 22,
   "id": "d3adea9c-e06a-4230-adbc-688197bbcd21",
   "metadata": {},
   "outputs": [
    {
     "name": "stdout",
     "output_type": "stream",
     "text": [
      "Predicted Sentiment: Negative\n",
      "Probabilities: tensor([[0.9259, 0.0489, 0.0252]], device='cuda:0')\n"
     ]
    }
   ],
   "source": [
    "# Example sentence for prediction\n",
    "test_sentence = \" বাজে মেশিন   ব্যবহার করার পর রিভিউ দিলাম\"\n",
    "predicted_label, probabilities = predict_sentiment(model, test_sentence, word_to_idx, max_len)\n",
    "\n",
    "# Map label index back to sentiment\n",
    "idx_to_label = {v: k for k, v in label_dict.items()}\n",
    "predicted_sentiment = idx_to_label[predicted_label]\n",
    "\n",
    "print(f\"Predicted Sentiment: {predicted_sentiment}\")\n",
    "print(f\"Probabilities: {probabilities}\")"
   ]
  },
  {
   "cell_type": "code",
   "execution_count": null,
   "id": "c5a55415-58e8-444c-b346-899497e0eeb6",
   "metadata": {},
   "outputs": [],
   "source": []
  }
 ],
 "metadata": {
  "kernelspec": {
   "display_name": "Python 3 (ipykernel)",
   "language": "python",
   "name": "python3"
  },
  "language_info": {
   "codemirror_mode": {
    "name": "ipython",
    "version": 3
   },
   "file_extension": ".py",
   "mimetype": "text/x-python",
   "name": "python",
   "nbconvert_exporter": "python",
   "pygments_lexer": "ipython3",
   "version": "3.12.4"
  }
 },
 "nbformat": 4,
 "nbformat_minor": 5
}

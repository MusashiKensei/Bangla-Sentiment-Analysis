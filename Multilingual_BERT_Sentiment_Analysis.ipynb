{
 "cells": [
  {
   "cell_type": "code",
   "execution_count": 1,
   "id": "88621d44",
   "metadata": {},
   "outputs": [
    {
     "name": "stderr",
     "output_type": "stream",
     "text": [
      "Some weights of the model checkpoint at bert-base-multilingual-cased were not used when initializing BertForMaskedLM: ['bert.pooler.dense.bias', 'bert.pooler.dense.weight', 'cls.seq_relationship.bias', 'cls.seq_relationship.weight']\n",
      "- This IS expected if you are initializing BertForMaskedLM from the checkpoint of a model trained on another task or with another architecture (e.g. initializing a BertForSequenceClassification model from a BertForPreTraining model).\n",
      "- This IS NOT expected if you are initializing BertForMaskedLM from the checkpoint of a model that you expect to be exactly identical (initializing a BertForSequenceClassification model from a BertForSequenceClassification model).\n",
      "C:\\Users\\Rizvi\\AppData\\Roaming\\Python\\Python312\\site-packages\\transformers\\tokenization_utils_base.py:1601: FutureWarning: `clean_up_tokenization_spaces` was not set. It will be set to `True` by default. This behavior will be depracted in transformers v4.45, and will be then set to `False` by default. For more details check this issue: https://github.com/huggingface/transformers/issues/31884\n",
      "  warnings.warn(\n",
      "Hardware accelerator e.g. GPU is available in the environment, but no `device` argument is passed to the `Pipeline` object. Model will be on CPU.\n"
     ]
    },
    {
     "data": {
      "text/plain": [
       "[{'score': 0.10182059556245804,\n",
       "  'token': 13192,\n",
       "  'token_str': 'model',\n",
       "  'sequence': \"Hello I'm a model model.\"},\n",
       " {'score': 0.05212637409567833,\n",
       "  'token': 11356,\n",
       "  'token_str': 'world',\n",
       "  'sequence': \"Hello I'm a world model.\"},\n",
       " {'score': 0.048930197954177856,\n",
       "  'token': 11165,\n",
       "  'token_str': 'data',\n",
       "  'sequence': \"Hello I'm a data model.\"},\n",
       " {'score': 0.02036011777818203,\n",
       "  'token': 23578,\n",
       "  'token_str': 'flight',\n",
       "  'sequence': \"Hello I'm a flight model.\"},\n",
       " {'score': 0.02007964998483658,\n",
       "  'token': 14155,\n",
       "  'token_str': 'business',\n",
       "  'sequence': \"Hello I'm a business model.\"}]"
      ]
     },
     "execution_count": 1,
     "metadata": {},
     "output_type": "execute_result"
    }
   ],
   "source": [
    "from transformers import pipeline\n",
    "unmasker = pipeline('fill-mask', model='bert-base-multilingual-cased')\n",
    "unmasker(\"Hello I'm a [MASK] model.\")"
   ]
  },
  {
   "cell_type": "code",
   "execution_count": 2,
   "id": "482c653c",
   "metadata": {},
   "outputs": [],
   "source": [
    "from transformers import BertTokenizer, BertModel\n",
    "tokenizer = BertTokenizer.from_pretrained('bert-base-multilingual-cased')\n",
    "model = BertModel.from_pretrained(\"bert-base-multilingual-cased\")\n",
    "text = \"Replace me by any text you'd like.\"\n",
    "encoded_input = tokenizer(text, return_tensors='pt')\n",
    "output = model(**encoded_input)"
   ]
  },
  {
   "cell_type": "code",
   "execution_count": 3,
   "id": "48445e9f",
   "metadata": {},
   "outputs": [
    {
     "name": "stdout",
     "output_type": "stream",
     "text": [
      "['এ', '##খ', '##নো', 'ই', '##উ', '##জ', 'ক', '##রি', 'না', '##ই', 'তবে', 'দ', '##ে', '##খে', 'প', '##্রি', '##মি', '##য়া', '##ম', 'মনে', 'হচ্ছে', 'আ', '##শা', 'ক', '##রি', 'ভ', '##াল', '##ো', 'হবে', 'স', '##ুন', '##্দ', '##র']\n"
     ]
    }
   ],
   "source": [
    "text = \"এখনো ইউজ করি নাই তবে দেখে প্রিমিয়াম মনে হচ্ছে  আশা করি ভালো হবে  সুন্দর\"\n",
    "tokens = tokenizer.tokenize(text)\n",
    "print(tokens)"
   ]
  },
  {
   "cell_type": "markdown",
   "id": "6899f83d",
   "metadata": {},
   "source": [
    "# Multilingual BERT"
   ]
  },
  {
   "cell_type": "markdown",
   "id": "766f92a3",
   "metadata": {},
   "source": [
    "# Important Libraries"
   ]
  },
  {
   "cell_type": "code",
   "execution_count": 4,
   "id": "f275b7cf-755e-4143-9b35-94c63b9b73c5",
   "metadata": {},
   "outputs": [],
   "source": [
    "import torch\n",
    "import pandas as pd\n",
    "from sklearn.model_selection import train_test_split\n",
    "from transformers import BertTokenizer, BertForSequenceClassification, AdamW, EarlyStoppingCallback\n",
    "from torch.utils.data import DataLoader, Dataset\n",
    "from sklearn.metrics import f1_score, precision_score, recall_score\n",
    "from sklearn.metrics import classification_report, confusion_matrix\n",
    "import seaborn as sns\n",
    "import numpy as np\n",
    "from sklearn.preprocessing import LabelEncoder\n",
    "from tqdm import tqdm\n",
    "import matplotlib.pyplot as plt  # Importing matplotlib for plotting"
   ]
  },
  {
   "cell_type": "markdown",
   "id": "0d8a78ab",
   "metadata": {},
   "source": [
    "# Load Dataset"
   ]
  },
  {
   "cell_type": "code",
   "execution_count": 5,
   "id": "239b84ab-58e0-4f00-8da4-a59a1736b1fb",
   "metadata": {},
   "outputs": [],
   "source": [
    "train_data = pd.read_excel(r'E:\\Bangla-Sentiment-Analysis\\Bangla_Dataset\\train_data_df.xlsx')\n",
    "val_data = pd.read_excel(r'E:\\Bangla-Sentiment-Analysis\\Bangla_Dataset\\val_data_df.xlsx')\n",
    "test_data = pd.read_excel(r'E:\\Bangla-Sentiment-Analysis\\Bangla_Dataset\\test_data_df.xlsx')"
   ]
  },
  {
   "cell_type": "code",
   "execution_count": 6,
   "id": "6c88decb",
   "metadata": {},
   "outputs": [
    {
     "data": {
      "text/html": [
       "<div>\n",
       "<style scoped>\n",
       "    .dataframe tbody tr th:only-of-type {\n",
       "        vertical-align: middle;\n",
       "    }\n",
       "\n",
       "    .dataframe tbody tr th {\n",
       "        vertical-align: top;\n",
       "    }\n",
       "\n",
       "    .dataframe thead th {\n",
       "        text-align: right;\n",
       "    }\n",
       "</style>\n",
       "<table border=\"1\" class=\"dataframe\">\n",
       "  <thead>\n",
       "    <tr style=\"text-align: right;\">\n",
       "      <th></th>\n",
       "      <th>clean_sentence</th>\n",
       "      <th>Sentiment</th>\n",
       "    </tr>\n",
       "  </thead>\n",
       "  <tbody>\n",
       "    <tr>\n",
       "      <th>0</th>\n",
       "      <td>অর্ডার প্লেসমেন্ট সাউন্ড কোয়ালিটি মাত্র দিনগু...</td>\n",
       "      <td>Positive</td>\n",
       "    </tr>\n",
       "    <tr>\n",
       "      <th>1</th>\n",
       "      <td>টাকা রেঞ্জে একটা ভালো ডিল বলা যায় যদি অফারে নি...</td>\n",
       "      <td>Positive</td>\n",
       "    </tr>\n",
       "    <tr>\n",
       "      <th>2</th>\n",
       "      <td>শালীন সাউন্ড কোয়ালিটি দুর্দান্ত বাস মানের মাই...</td>\n",
       "      <td>Positive</td>\n",
       "    </tr>\n",
       "    <tr>\n",
       "      <th>3</th>\n",
       "      <td>পারফরম্যান্স ভালো পাচ্ছি কিন্তু এর কৃত্রিম সংক...</td>\n",
       "      <td>Neutral</td>\n",
       "    </tr>\n",
       "    <tr>\n",
       "      <th>4</th>\n",
       "      <td>খুব ভালো</td>\n",
       "      <td>Positive</td>\n",
       "    </tr>\n",
       "  </tbody>\n",
       "</table>\n",
       "</div>"
      ],
      "text/plain": [
       "                                      clean_sentence Sentiment\n",
       "0  অর্ডার প্লেসমেন্ট সাউন্ড কোয়ালিটি মাত্র দিনগু...  Positive\n",
       "1  টাকা রেঞ্জে একটা ভালো ডিল বলা যায় যদি অফারে নি...  Positive\n",
       "2  শালীন সাউন্ড কোয়ালিটি দুর্দান্ত বাস মানের মাই...  Positive\n",
       "3  পারফরম্যান্স ভালো পাচ্ছি কিন্তু এর কৃত্রিম সংক...   Neutral\n",
       "4                                           খুব ভালো  Positive"
      ]
     },
     "execution_count": 6,
     "metadata": {},
     "output_type": "execute_result"
    }
   ],
   "source": [
    "train_data.head(5)"
   ]
  },
  {
   "cell_type": "code",
   "execution_count": 7,
   "id": "6b5a68df",
   "metadata": {},
   "outputs": [],
   "source": [
    "# Sentiment Mapping\n",
    "sentiment_mapping = {'Positive': 2, 'Neutral': 1, 'Negative': 0}\n",
    "\n",
    "# Apply the mapping \n",
    "train_data['Sentiment'] = train_data['Sentiment'].map(sentiment_mapping)\n",
    "val_data['Sentiment'] = val_data['Sentiment'].map(sentiment_mapping)\n",
    "test_data['Sentiment'] = test_data['Sentiment'].map(sentiment_mapping)\n"
   ]
  },
  {
   "cell_type": "code",
   "execution_count": 8,
   "id": "8a0059ad",
   "metadata": {},
   "outputs": [
    {
     "name": "stderr",
     "output_type": "stream",
     "text": [
      "C:\\Users\\Rizvi\\AppData\\Roaming\\Python\\Python312\\site-packages\\transformers\\tokenization_utils_base.py:1601: FutureWarning: `clean_up_tokenization_spaces` was not set. It will be set to `True` by default. This behavior will be depracted in transformers v4.45, and will be then set to `False` by default. For more details check this issue: https://github.com/huggingface/transformers/issues/31884\n",
      "  warnings.warn(\n"
     ]
    }
   ],
   "source": [
    "# BERT Tokenizer\n",
    "tokenizer = BertTokenizer.from_pretrained('bert-base-multilingual-cased')\n",
    "\n",
    "# Custom Dataset\n",
    "class SentimentDataset(Dataset):\n",
    "    def __init__(self, texts, labels):\n",
    "        self.texts = texts\n",
    "        self.labels = labels\n",
    "\n",
    "    def __len__(self):\n",
    "        return len(self.labels)\n",
    "\n",
    "    def __getitem__(self, idx):\n",
    "        text = self.texts[idx]\n",
    "        label = self.labels[idx]\n",
    "\n",
    "        encoding = tokenizer.encode_plus(\n",
    "            text,\n",
    "            add_special_tokens=True,\n",
    "            max_length=184,\n",
    "            padding='max_length',\n",
    "            truncation=True,\n",
    "            return_attention_mask=True,\n",
    "            return_tensors='pt'\n",
    "        )\n",
    "\n",
    "        return {\n",
    "            'input_ids': encoding['input_ids'].flatten(),\n",
    "            'attention_mask': encoding['attention_mask'].flatten(),\n",
    "            'labels': torch.tensor(label, dtype=torch.long)\n",
    "        }"
   ]
  },
  {
   "cell_type": "markdown",
   "id": "6f3acb43",
   "metadata": {},
   "source": [
    "# Dataloader "
   ]
  },
  {
   "cell_type": "code",
   "execution_count": 9,
   "id": "bbc310c3",
   "metadata": {},
   "outputs": [],
   "source": [
    "# Prepare DataLoader\n",
    "train_dataset = SentimentDataset(train_data['clean_sentence'].tolist(), train_data['Sentiment'].tolist())\n",
    "val_dataset = SentimentDataset(val_data['clean_sentence'].tolist(), val_data['Sentiment'].tolist())\n",
    "test_dataset = SentimentDataset(test_data['clean_sentence'].tolist(), test_data['Sentiment'].tolist())\n",
    "\n",
    "train_loader = DataLoader(train_dataset, batch_size=8, shuffle=True)\n",
    "val_loader = DataLoader(val_dataset, batch_size=8, shuffle=False)\n",
    "test_loader = DataLoader(test_dataset, batch_size=8, shuffle=False)"
   ]
  },
  {
   "cell_type": "markdown",
   "id": "08b412ac",
   "metadata": {},
   "source": [
    "# Initialize Model"
   ]
  },
  {
   "cell_type": "code",
   "execution_count": 10,
   "id": "ebfa1a2c",
   "metadata": {},
   "outputs": [
    {
     "name": "stderr",
     "output_type": "stream",
     "text": [
      "Some weights of BertForSequenceClassification were not initialized from the model checkpoint at bert-base-multilingual-cased and are newly initialized: ['classifier.bias', 'classifier.weight']\n",
      "You should probably TRAIN this model on a down-stream task to be able to use it for predictions and inference.\n",
      "C:\\Users\\Rizvi\\AppData\\Roaming\\Python\\Python312\\site-packages\\transformers\\optimization.py:591: FutureWarning: This implementation of AdamW is deprecated and will be removed in a future version. Use the PyTorch implementation torch.optim.AdamW instead, or set `no_deprecation_warning=True` to disable this warning\n",
      "  warnings.warn(\n"
     ]
    }
   ],
   "source": [
    "model = BertForSequenceClassification.from_pretrained('bert-base-multilingual-cased', num_labels=3)\n",
    "model = model.to('cuda' if torch.cuda.is_available() else 'cpu')\n",
    "\n",
    "# Optimizer\n",
    "optimizer = AdamW(model.parameters(), lr=0.00001)"
   ]
  },
  {
   "cell_type": "markdown",
   "id": "ed70a24c",
   "metadata": {},
   "source": [
    "# Train Model"
   ]
  },
  {
   "cell_type": "code",
   "execution_count": 11,
   "id": "d43f57dd",
   "metadata": {},
   "outputs": [
    {
     "name": "stderr",
     "output_type": "stream",
     "text": [
      "  0%|          | 0/2575 [00:00<?, ?it/s]C:\\Users\\Rizvi\\AppData\\Roaming\\Python\\Python312\\site-packages\\transformers\\models\\bert\\modeling_bert.py:439: UserWarning: 1Torch was not compiled with flash attention. (Triggered internally at C:\\actions-runner\\_work\\pytorch\\pytorch\\builder\\windows\\pytorch\\aten\\src\\ATen\\native\\transformers\\cuda\\sdp_utils.cpp:555.)\n",
      "  attn_output = torch.nn.functional.scaled_dot_product_attention(\n",
      "100%|██████████| 2575/2575 [03:06<00:00, 13.79it/s]\n"
     ]
    },
    {
     "name": "stdout",
     "output_type": "stream",
     "text": [
      "Epoch 1\n",
      "Train Loss: 0.8232426732141995\n",
      "Validation Loss: 0.7495650796765122\n",
      "Accuracy: 0.6849, F1 Score: 0.6591075307547047, Precision: 0.6588774878301821, Recall: 0.6848576954959934\n",
      "Validation loss improved, saving the model...\n"
     ]
    },
    {
     "name": "stderr",
     "output_type": "stream",
     "text": [
      "100%|██████████| 2575/2575 [03:04<00:00, 13.94it/s]\n"
     ]
    },
    {
     "name": "stdout",
     "output_type": "stream",
     "text": [
      "Epoch 2\n",
      "Train Loss: 0.7290497970465317\n",
      "Validation Loss: 0.7281076107894519\n",
      "Accuracy: 0.6966, F1 Score: 0.6694942474122553, Precision: 0.6694370796627165, Recall: 0.6966012710693562\n",
      "Validation loss improved, saving the model...\n"
     ]
    },
    {
     "name": "stderr",
     "output_type": "stream",
     "text": [
      "100%|██████████| 2575/2575 [03:07<00:00, 13.73it/s]\n"
     ]
    },
    {
     "name": "stdout",
     "output_type": "stream",
     "text": [
      "Epoch 3\n",
      "Train Loss: 0.6772064114716446\n",
      "Validation Loss: 0.7272467673318821\n",
      "Accuracy: 0.6908, F1 Score: 0.685865097602464, Precision: 0.682075324070447, Recall: 0.6907985631389887\n",
      "Validation loss improved, saving the model...\n"
     ]
    },
    {
     "name": "stderr",
     "output_type": "stream",
     "text": [
      "100%|██████████| 2575/2575 [03:04<00:00, 13.97it/s]\n"
     ]
    },
    {
     "name": "stdout",
     "output_type": "stream",
     "text": [
      "Epoch 4\n",
      "Train Loss: 0.6313722408251855\n",
      "Validation Loss: 0.7502784853317461\n",
      "Accuracy: 0.6941, F1 Score: 0.6861459129414907, Precision: 0.6816163864046653, Recall: 0.6941143962420558\n",
      "No improvement in validation loss for 1 epoch(s).\n"
     ]
    },
    {
     "name": "stderr",
     "output_type": "stream",
     "text": [
      "100%|██████████| 2575/2575 [03:01<00:00, 14.18it/s]\n"
     ]
    },
    {
     "name": "stdout",
     "output_type": "stream",
     "text": [
      "Epoch 5\n",
      "Train Loss: 0.5677087878168208\n",
      "Validation Loss: 0.7930165195251038\n",
      "Accuracy: 0.6847, F1 Score: 0.6795251831765119, Precision: 0.6795449013506616, Recall: 0.6847195357833655\n",
      "No improvement in validation loss for 2 epoch(s).\n",
      "Early stopping triggered after 2 epochs without improvement.\n"
     ]
    }
   ],
   "source": [
    "# Initialize lists to track losses\n",
    "train_losses = []\n",
    "val_losses = []\n",
    "\n",
    "# Training function\n",
    "def train_model(model, train_loader, val_loader, optimizer, num_epochs=10, patience=3):\n",
    "    best_val_loss = float('inf')  # Initialize the best validation loss\n",
    "    patience_counter = 0  # Counter to track how long validation loss has not improved\n",
    "\n",
    "    model.train()\n",
    "    for epoch in range(num_epochs):\n",
    "        total_train_loss = 0\n",
    "        model.train()  # Set the model to training mode\n",
    "\n",
    "        for batch in tqdm(train_loader):\n",
    "            optimizer.zero_grad()\n",
    "            input_ids = batch['input_ids'].to('cuda')\n",
    "            attention_mask = batch['attention_mask'].to('cuda')\n",
    "            labels = batch['labels'].to('cuda')\n",
    "\n",
    "            outputs = model(input_ids, attention_mask=attention_mask, labels=labels)\n",
    "            loss = outputs.loss\n",
    "            total_train_loss += loss.item()\n",
    "\n",
    "            loss.backward()\n",
    "            optimizer.step()\n",
    "\n",
    "        avg_train_loss = total_train_loss / len(train_loader)\n",
    "        train_losses.append(avg_train_loss)  # Append training loss\n",
    "        print(f'Epoch {epoch + 1}')\n",
    "        print(f'Train Loss: {avg_train_loss}')\n",
    "\n",
    "        # Validation\n",
    "        model.eval()  # Set the model to evaluation mode\n",
    "        total_val_loss = 0\n",
    "        val_labels = []\n",
    "        val_preds = []\n",
    "\n",
    "        with torch.no_grad():\n",
    "            for batch in val_loader:\n",
    "                input_ids = batch['input_ids'].to('cuda')\n",
    "                attention_mask = batch['attention_mask'].to('cuda')\n",
    "                labels = batch['labels'].to('cuda')\n",
    "\n",
    "                outputs = model(input_ids, attention_mask=attention_mask, labels=labels)\n",
    "                loss = outputs.loss\n",
    "                total_val_loss += loss.item()\n",
    "\n",
    "                preds = torch.argmax(outputs.logits, dim=-1)\n",
    "                val_labels.extend(labels.cpu().numpy())\n",
    "                val_preds.extend(preds.cpu().numpy())\n",
    "\n",
    "        avg_val_loss = total_val_loss / len(val_loader)\n",
    "        val_losses.append(avg_val_loss)  # Append validation loss\n",
    "        f1 = f1_score(val_labels, val_preds, average='weighted')\n",
    "        precision = precision_score(val_labels, val_preds, average='weighted')\n",
    "        recall = recall_score(val_labels, val_preds, average='weighted')\n",
    "        accuracy = np.mean(np.array(val_labels) == np.array(val_preds))\n",
    "\n",
    "        print(f'Validation Loss: {avg_val_loss}')\n",
    "        print(f'Accuracy: {accuracy:.4f}, F1 Score: {f1}, Precision: {precision}, Recall: {recall}')\n",
    "\n",
    "        # Early stopping logic\n",
    "        if avg_val_loss < best_val_loss:\n",
    "            best_val_loss = avg_val_loss\n",
    "            patience_counter = 0  # Reset patience counter if validation loss improves\n",
    "            print(\"Validation loss improved, saving the model...\")\n",
    "            torch.save(model.state_dict(), 'best_model.pt')  # Save the model if validation loss improves\n",
    "        else:\n",
    "            patience_counter += 1  # Increment the patience counter\n",
    "            print(f'No improvement in validation loss for {patience_counter} epoch(s).')\n",
    "\n",
    "        if patience_counter >= patience:\n",
    "            print(f'Early stopping triggered after {patience_counter} epochs without improvement.')\n",
    "            break  # Exit the training loop if patience has been exceeded\n",
    "\n",
    "# Train the model \n",
    "train_model(model, train_loader, val_loader, optimizer, num_epochs=10, patience=2)"
   ]
  },
  {
   "cell_type": "code",
   "execution_count": 12,
   "metadata": {},
   "outputs": [
    {
     "data": {
      "image/png": "[encoded data removed]",
      "text/plain": [
       "<Figure size 1000x500 with 1 Axes>"
      ]
     },
     "metadata": {},
     "output_type": "display_data"
    }
   ],
   "source": [
    "# Plot losses\n",
    "plt.figure(figsize=(10, 5))\n",
    "plt.title(\"Training and Validation Loss\")\n",
    "plt.plot(train_losses, label=\"Train Loss\")\n",
    "plt.plot(val_losses, label=\"Validation Loss\")\n",
    "plt.xlabel(\"Epochs\")\n",
    "plt.ylabel(\"Loss\")\n",
    "plt.legend()\n",
    "plt.show()"
   ]
  },
  {
   "cell_type": "markdown",
   "id": "c8d83fcb",
   "metadata": {},
   "source": [
    "# Test Model"
   ]
  },
  {
   "cell_type": "code",
   "execution_count": 13,
   "id": "30324f78",
   "metadata": {},
   "outputs": [
    {
     "name": "stderr",
     "output_type": "stream",
     "text": [
      "C:\\Users\\Rizvi\\AppData\\Local\\Temp\\ipykernel_736\\554017075.py:2: FutureWarning: You are using `torch.load` with `weights_only=False` (the current default value), which uses the default pickle module implicitly. It is possible to construct malicious pickle data which will execute arbitrary code during unpickling (See https://github.com/pytorch/pytorch/blob/main/SECURITY.md#untrusted-models for more details). In a future release, the default value for `weights_only` will be flipped to `True`. This limits the functions that could be executed during unpickling. Arbitrary objects will no longer be allowed to be loaded via this mode unless they are explicitly allowlisted by the user via `torch.serialization.add_safe_globals`. We recommend you start setting `weights_only=True` for any use case where you don't have full control of the loaded file. Please open an issue on GitHub for any issues related to this experimental feature.\n",
      "  model.load_state_dict(torch.load('best_model.pt'))\n"
     ]
    }
   ],
   "source": [
    "# Load the best model state (the one with the lowest validation loss) before evaluating on the test set\n",
    "model.load_state_dict(torch.load('best_model.pt'))\n",
    "model.eval()  \n",
    "\n",
    "# Evaluation on Test Dataset\n",
    "\n",
    "test_labels = []\n",
    "test_preds = []\n",
    "\n",
    "with torch.no_grad():\n",
    "    for batch in test_loader:\n",
    "        input_ids = batch['input_ids'].to('cuda')\n",
    "        attention_mask = batch['attention_mask'].to('cuda')\n",
    "        labels = batch['labels'].to('cuda')\n",
    "\n",
    "        outputs = model(input_ids, attention_mask=attention_mask)\n",
    "        preds = torch.argmax(outputs.logits, dim=-1)\n",
    "        test_labels.extend(labels.cpu().numpy())\n",
    "        test_preds.extend(preds.cpu().numpy())\n",
    "\n",
    "test_accuracy = np.mean(np.array(test_labels) == np.array(test_preds))\n",
    "f_score = f1_score(test_labels, test_preds, average='weighted')\n",
    "precision = precision_score(test_labels, test_preds, average='weighted')\n",
    "recall = recall_score(test_labels, test_preds, average='weighted')"
   ]
  },
  {
   "cell_type": "code",
   "execution_count": 14,
   "id": "077df46e",
   "metadata": {},
   "outputs": [
    {
     "name": "stdout",
     "output_type": "stream",
     "text": [
      "--------------------------------------------------Test Set---------------------------------------------------------------------------\n",
      "Evaluating on Test Dataset\n",
      "Test Accuracy: 0.6943, F Score: 0.6897\n",
      "Test Precision: 0.6861, Test Recall: 0.6943\n",
      "\n",
      "Classification Report:\n",
      "              precision    recall  f1-score   support\n",
      "\n",
      "    Negative       0.73      0.74      0.73      2291\n",
      "     Neutral       0.42      0.37      0.39      1445\n",
      "    Positive       0.78      0.81      0.79      3224\n",
      "\n",
      "    accuracy                           0.69      6960\n",
      "   macro avg       0.64      0.64      0.64      6960\n",
      "weighted avg       0.69      0.69      0.69      6960\n",
      "\n",
      "\n",
      "Confusion Matrix:\n",
      "[[1698  343  250]\n",
      " [ 416  535  494]\n",
      " [ 222  403 2599]]\n"
     ]
    },
    {
     "data": {
      "image/png": "[encoded data removed]",
      "text/plain": [
       "<Figure size 800x600 with 2 Axes>"
      ]
     },
     "metadata": {},
     "output_type": "display_data"
    }
   ],
   "source": [
    "print(\"--------------------------------------------------Test Set---------------------------------------------------------------------------\")\n",
    "print(\"Evaluating on Test Dataset\")\n",
    "print(f\"Test Accuracy: {test_accuracy:.4f}, F Score: {f_score:.4f}\")\n",
    "print(f\"Test Precision: {precision:.4f}, Test Recall: {recall:.4f}\")\n",
    "\n",
    "# Generate classification report\n",
    "print(\"\\nClassification Report:\")\n",
    "print(classification_report(test_labels, test_preds, target_names=['Negative', 'Neutral', 'Positive']))\n",
    "\n",
    "# Generate confusion matrix\n",
    "cm = confusion_matrix(test_labels, test_preds)\n",
    "print(\"\\nConfusion Matrix:\")\n",
    "print(cm)\n",
    "\n",
    "# Visualizing the confusion matrix \n",
    "plt.figure(figsize=(8, 6))\n",
    "sns.heatmap(cm, annot=True, fmt=\"d\", cmap=\"Blues\", xticklabels=['Negative', 'Neutral', 'Positive'], yticklabels=['Negative', 'Neutral', 'Positive'])\n",
    "plt.ylabel('Actual')\n",
    "plt.xlabel('Predicted')\n",
    "plt.title(\"Confusion Matrix\")\n",
    "plt.show()\n",
    "\n"
   ]
  },
  {
   "cell_type": "code",
   "execution_count": null,
   "id": "62539bec",
   "metadata": {},
   "outputs": [],
   "source": []
  }
 ],
 "metadata": {
  "kernelspec": {
   "display_name": "Python (myenv)",
   "language": "python",
   "name": "myenv"
  },
  "language_info": {
   "codemirror_mode": {
    "name": "ipython",
    "version": 3
   },
   "file_extension": ".py",
   "mimetype": "text/x-python",
   "name": "python",
   "nbconvert_exporter": "python",
   "pygments_lexer": "ipython3",
   "version": "3.12.5"
  }
 },
 "nbformat": 4,
 "nbformat_minor": 5
}
